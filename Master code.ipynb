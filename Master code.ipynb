{
 "cells": [
  {
   "cell_type": "code",
   "execution_count": 1,
   "metadata": {},
   "outputs": [],
   "source": [
    "#sql toolbox\n",
    "import sqlite3\n",
    "\n",
    "#create table\n",
    "conn = sqlite3.connect('mobility.db')\n",
    "\n",
    "\n",
    "\n",
    "import csv\n",
    "import pandas as pd\n",
    "import numpy as np\n",
    "from scipy import interpolate \n",
    "import matplotlib.pyplot as plt\n",
    "filename = \"Raw_data_csv.csv\""
   ]
  },
  {
   "cell_type": "code",
   "execution_count": 2,
   "metadata": {},
   "outputs": [],
   "source": [
    "def csv_state_tables_list(filename):\n",
    "    tables = []\n",
    "    with open(filename , 'r') as csvfile:\n",
    "        #create csv reader object\n",
    "        csv_Readout = csv.reader(csvfile)\n",
    "        #start\n",
    "        #skip first row of col\n",
    "        next(csv_Readout)\n",
    "        for i in csv_Readout:\n",
    "            if (i[1] != 'DC' and i[1] not in tables):\n",
    "                tables.append(i[1])\n",
    "    return tables\n"
   ]
  },
  {
   "cell_type": "code",
   "execution_count": 3,
   "metadata": {},
   "outputs": [],
   "source": [
    "# 1 create db of csv data:\n",
    "def create_table_cohort():\n",
    "    curs = conn.cursor()\n",
    "    aq = \"\"\"CREATE TABLE cohorts(state TEXT, cohort INTEGER, cohort_mean REAL)\"\"\"\n",
    "    curs.execute(aq)\n"
   ]
  },
  {
   "cell_type": "code",
   "execution_count": 4,
   "metadata": {},
   "outputs": [],
   "source": [
    "#loads data into db\n",
    "def load_csv_to_chohorts_db():\n",
    "    with open(filename, 'r') as csvfile:\n",
    "        csv_Readout = csv.reader(csvfile)\n",
    "        next(csv_Readout)\n",
    "        for data in csv_Readout:\n",
    "            if data[1] == 'DC':\n",
    "                continue\n",
    "            aq = \"\"\"INSERT INTO cohorts(state, cohort, cohort_mean)\n",
    "                    VALUES ('%s', '%s', '%s')\"\"\" %(data[1],data[2],data[3])\n",
    "            cur = conn.cursor()\n",
    "            cur.execute(aq)\n",
    "            conn.commit()\n"
   ]
  },
  {
   "cell_type": "code",
   "execution_count": 5,
   "metadata": {},
   "outputs": [],
   "source": [
    "#creates dic of cohorts collected\n",
    "def states_date():\n",
    "    state_List = {tables : [] for tables in csv_state_tables_list(filename)}\n",
    "    with open(filename, 'r') as csvfile:\n",
    "        csv_Readout = csv.reader(csvfile)\n",
    "        next(csv_Readout)\n",
    "        for i in csv_Readout:\n",
    "            if i[1] != 'DC':\n",
    "                a = i[1]\n",
    "                state_List[a].append(int(i[2]))\n",
    "            else:\n",
    "                continue\n",
    "    return state_List"
   ]
  },
  {
   "cell_type": "code",
   "execution_count": 6,
   "metadata": {},
   "outputs": [],
   "source": [
    "def state_list():\n",
    "    return [states for states in states_date()]"
   ]
  },
  {
   "cell_type": "code",
   "execution_count": 7,
   "metadata": {},
   "outputs": [],
   "source": [
    "def null_Cohorts_Add():\n",
    "    expt_Cohorts = [1940, 1950, 1960, 1970, 1980]\n",
    "    for states in states_date():\n",
    "        if list(set(expt_Cohorts)-set(states_date()[states])) != []:\n",
    "            for missing in list(set(expt_Cohorts)-set(states_date()[states])):\n",
    "                aq = \"\"\"INSERT INTO cohorts(state, cohort, cohort_mean)\n",
    "                        VALUES ('%s', '%s', '%s')\"\"\" %(states,missing, None)\n",
    "                cur = conn.cursor()\n",
    "                cur.execute(aq)\n",
    "                conn.commit()\n",
    "\n"
   ]
  },
  {
   "cell_type": "code",
   "execution_count": 8,
   "metadata": {},
   "outputs": [],
   "source": [
    "def create_sorted_cohorts():\n",
    "    aq = \"\"\"CREATE TABLE cohorts_sorted(state TEXT, cohort INTEGER, cohort_mean REAL)\"\"\"\n",
    "    cur = conn.cursor()\n",
    "    cur.execute(aq)\n",
    "    aq = \"\"\"INSERT INTO cohorts_sorted ('state', 'cohort', 'cohort_mean')\n",
    "    SELECT *\n",
    "    FROM cohorts\n",
    "    ORDER BY state,cohort ASC;\"\"\"\n",
    "    cur.execute(aq)\n",
    "    conn.commit()\n",
    "    aq2 = \"\"\"UPDATE cohorts_sorted\n",
    "            SET cohort_mean = NULL\n",
    "            WHERE cohort_mean = 'None';\n",
    "            \"\"\" \n",
    "    cur.execute(aq2)\n",
    "    conn.commit()\n",
    " \n"
   ]
  },
  {
   "cell_type": "code",
   "execution_count": 9,
   "metadata": {},
   "outputs": [],
   "source": [
    "def data_base_null_fill():    \n",
    "    df = pd.read_sql(\"SELECT state,cohort,cohort_mean FROM cohorts_sorted\",conn)\n",
    "    df = df.interpolate()\n",
    "    for index, row in df.iterrows():\n",
    "        q = \"UPDATE cohorts_sorted SET cohort_mean = %s WHERE state = '%s' AND cohort = %d\"%(row['cohort_mean'],row['state'],row['cohort'])\n",
    "        curr.execute(q)\n",
    "        conn.commit()\n",
    "    "
   ]
  },
  {
   "cell_type": "code",
   "execution_count": null,
   "metadata": {},
   "outputs": [],
   "source": []
  },
  {
   "cell_type": "code",
   "execution_count": 10,
   "metadata": {},
   "outputs": [],
   "source": [
    "csv_state_tables_list(filename)\n",
    "create_table_cohort()\n",
    "load_csv_to_chohorts_db()\n",
    "states_date()\n",
    "null_Cohorts_Add()\n",
    "# sort_New_Data()\n",
    "create_sorted_cohorts()\n",
    "# data_base_null_fill()"
   ]
  },
  {
   "cell_type": "code",
   "execution_count": 11,
   "metadata": {},
   "outputs": [
    {
     "data": {
      "text/plain": [
       "1      NaN\n",
       "2    0.572\n",
       "3    0.450\n",
       "4    0.379\n",
       "5    0.920\n",
       "6    0.818\n",
       "7    0.645\n",
       "8    0.639\n",
       "9    0.519\n",
       "Name: cohort_mean, dtype: float64"
      ]
     },
     "execution_count": 11,
     "metadata": {},
     "output_type": "execute_result"
    }
   ],
   "source": [
    "import sqlite3\n",
    "import pandas as pd\n",
    "\n",
    "\n",
    "conn = sqlite3.connect('mobility.db')\n",
    "cur = conn.cursor() \n",
    "df = pd.read_sql_query(\"select * from cohorts_sorted\", conn)\n",
    "df['cohort_mean'][1:10]"
   ]
  },
  {
   "cell_type": "code",
   "execution_count": 12,
   "metadata": {},
   "outputs": [
    {
     "name": "stdout",
     "output_type": "stream",
     "text": [
      "[0.11954285731428582, -0.42737141005714285, -1.1837428151142868, -2.149571357857142]\n"
     ]
    }
   ],
   "source": [
    "conn = sqlite3.connect('mobility.db')\n",
    "df = pd.read_sql_query(\"select * from cohorts_sorted\", conn)\n",
    "df=df[105:110]\n",
    "x=df['cohort'].values.tolist()\n",
    "y=df['cohort_mean'].values.tolist()\n",
    "predictedlist=[]\n",
    "dates=[1990,2000,2010,2020]\n",
    "n = 5\n",
    "final = [y[i * n:(i + 1) * n] for i in range((len(y) + n - 1) // n )]  \n",
    "for j in range(len(final)):\n",
    "    decade = [1940,1950,1960,1970,1980]\n",
    "    listeach=final[j]\n",
    "    d = interpolate.interp1d(decade, listeach, kind='quadratic', fill_value = \"extrapolate\")\n",
    "    for i in dates:\n",
    "        pred=d(i)\n",
    "        predictedlist.append(float(pred))\n",
    "    print(predictedlist)\n",
    "#     print(df)\n",
    "# plot(predictedlist)"
   ]
  },
  {
   "cell_type": "code",
   "execution_count": 13,
   "metadata": {},
   "outputs": [
    {
     "data": {
      "text/plain": [
       "Text(0.5, 1.0, 'Michigan: Predictions')"
      ]
     },
     "execution_count": 13,
     "metadata": {},
     "output_type": "execute_result"
    },
    {
     "data": {
      "image/png": "[encoded data removed]",
      "text/plain": [
       "<Figure size 432x288 with 1 Axes>"
      ]
     },
     "metadata": {
      "needs_background": "light"
     },
     "output_type": "display_data"
    }
   ],
   "source": [
    "dates=[1990,2000,2010,2020]\n",
    "dec=[1940,1950,1960,1970,1980]\n",
    "df1=list(df)\n",
    "df1\n",
    "# predlist1=predictedlist[0:5]\n",
    "# predlist1\n",
    "state=list(df['cohort_mean'])\n",
    "\n",
    "# state\n",
    "# alaska1.append(predictedlist[0])\n",
    "# plt.plot(dec,state)\n",
    "# plt.xlabel('Year')\n",
    "# plt.ylabel('Probability of Upward Social Mobility')\n",
    "# plt.title('New York')\n",
    "\n",
    "\n",
    "\n",
    "\n",
    "plt.plot(dates,predictedlist,marker=\"^\",color='r')\n",
    "plt.xlabel('Year')\n",
    "plt.ylabel('Probability of Upward Social Mobility')\n",
    "plt.title('Michigan: Predictions')\n",
    "\n",
    "# plt.plot(1990,predictedlist[0],marker=\"^\")"
   ]
  },
  {
   "cell_type": "code",
   "execution_count": null,
   "metadata": {},
   "outputs": [],
   "source": []
  }
 ],
 "metadata": {
  "kernelspec": {
   "display_name": "Python 3",
   "language": "python",
   "name": "python3"
  },
  "language_info": {
   "codemirror_mode": {
    "name": "ipython",
    "version": 3
   },
   "file_extension": ".py",
   "mimetype": "text/x-python",
   "name": "python",
   "nbconvert_exporter": "python",
   "pygments_lexer": "ipython3",
   "version": "3.7.3"
  }
 },
 "nbformat": 4,
 "nbformat_minor": 2
}
